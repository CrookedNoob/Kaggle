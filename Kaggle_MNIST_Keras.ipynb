{
 "cells": [
  {
   "cell_type": "code",
   "execution_count": 36,
   "metadata": {},
   "outputs": [],
   "source": [
    "import numpy as np\n",
    "import pandas as pd\n",
    "from keras.models import Sequential\n",
    "from keras.layers import Activation, Dense, Flatten, Conv2D, Dropout, MaxPooling2D\n",
    "from keras.utils import to_categorical, plot_model\n",
    "from keras.optimizers import Adam\n",
    "import matplotlib.pyplot as plt\n",
    "%matplotlib inline\n",
    "\n",
    "from keras.datasets import mnist"
   ]
  },
  {
   "cell_type": "code",
   "execution_count": 26,
   "metadata": {},
   "outputs": [],
   "source": [
    "(x_train, y_train), (x_val, y_val)= mnist.load_data()\n",
    "\n",
    "y_train= to_categorical(y_train)\n",
    "y_val= to_categorical(y_val)\n",
    "\n",
    "#reshape and normalize x_train and x_test\n",
    "x_train = np.reshape(x_train.astype('float32'),[-1, 28,28,1])/255.\n",
    "x_val = np.reshape(x_val.astype('float32'),[-1, 28,28,1])/255."
   ]
  },
  {
   "cell_type": "code",
   "execution_count": 27,
   "metadata": {},
   "outputs": [],
   "source": [
    "#load  train data\n",
    "df= pd.read_csv(\"train.csv\")\n",
    "\n",
    "#create y_train i.e. labels\n",
    "#y_train= np.array(df['label'])\n",
    "\n",
    "#create x_train i.e the pixel values\n",
    "#x_train= np.array(df.drop(labels=['label'], axis=1))\n",
    "\n",
    "#load test data\n",
    "df2= pd.read_csv(\"test.csv\")\n",
    "x_test= np.array(df2)"
   ]
  },
  {
   "cell_type": "code",
   "execution_count": 3,
   "metadata": {},
   "outputs": [
    {
     "name": "stdout",
     "output_type": "stream",
     "text": [
      "(42000, 784)\n",
      "(42000,)\n",
      "(28000, 784)\n"
     ]
    }
   ],
   "source": [
    "#check the shapes\n",
    "print(x_train.shape)\n",
    "print(y_train.shape)\n",
    "print(x_test.shape)"
   ]
  },
  {
   "cell_type": "code",
   "execution_count": 4,
   "metadata": {},
   "outputs": [
    {
     "name": "stdout",
     "output_type": "stream",
     "text": [
      "[0 1 2 3 4 5 6 7 8 9]\n",
      "10\n"
     ]
    }
   ],
   "source": [
    "#check the unique labels\n",
    "print(np.unique(y_train))\n",
    "print(len(np.unique(y_train)))"
   ]
  },
  {
   "cell_type": "code",
   "execution_count": 5,
   "metadata": {},
   "outputs": [],
   "source": [
    "#One hot encoding\n",
    "\n",
    "y_train= to_categorical(y_train)"
   ]
  },
  {
   "cell_type": "code",
   "execution_count": 28,
   "metadata": {},
   "outputs": [],
   "source": [
    "#reshape and normalize x_train and x_test\n",
    "#x_train = np.reshape(x_train.astype('float32'),[-1, 28,28,1])/255.\n",
    "x_test = np.reshape(x_test.astype('float32'),[-1, 28,28,1])/255."
   ]
  },
  {
   "cell_type": "code",
   "execution_count": 46,
   "metadata": {},
   "outputs": [
    {
     "name": "stdout",
     "output_type": "stream",
     "text": [
      "_________________________________________________________________\n",
      "Layer (type)                 Output Shape              Param #   \n",
      "=================================================================\n",
      "conv2d_16 (Conv2D)           (None, 26, 26, 32)        320       \n",
      "_________________________________________________________________\n",
      "dropout_19 (Dropout)         (None, 26, 26, 32)        0         \n",
      "_________________________________________________________________\n",
      "conv2d_17 (Conv2D)           (None, 24, 24, 64)        18496     \n",
      "_________________________________________________________________\n",
      "max_pooling2d_11 (MaxPooling (None, 12, 12, 64)        0         \n",
      "_________________________________________________________________\n",
      "dropout_20 (Dropout)         (None, 12, 12, 64)        0         \n",
      "_________________________________________________________________\n",
      "conv2d_18 (Conv2D)           (None, 10, 10, 128)       73856     \n",
      "_________________________________________________________________\n",
      "max_pooling2d_12 (MaxPooling (None, 5, 5, 128)         0         \n",
      "_________________________________________________________________\n",
      "dropout_21 (Dropout)         (None, 5, 5, 128)         0         \n",
      "_________________________________________________________________\n",
      "flatten_6 (Flatten)          (None, 3200)              0         \n",
      "_________________________________________________________________\n",
      "dense_9 (Dense)              (None, 256)               819456    \n",
      "_________________________________________________________________\n",
      "dropout_22 (Dropout)         (None, 256)               0         \n",
      "_________________________________________________________________\n",
      "dense_10 (Dense)             (None, 10)                2570      \n",
      "_________________________________________________________________\n",
      "activation_5 (Activation)    (None, 10)                0         \n",
      "=================================================================\n",
      "Total params: 914,698\n",
      "Trainable params: 914,698\n",
      "Non-trainable params: 0\n",
      "_________________________________________________________________\n"
     ]
    }
   ],
   "source": [
    "#model\n",
    "\n",
    "model= Sequential()\n",
    "model.add(Conv2D(32, 3, input_shape=(28,28,1), activation='relu'))\n",
    "model.add(Dropout(0.2))\n",
    "model.add(Conv2D(64, 3, input_shape=(28,28,1), activation='relu'))\n",
    "model.add(MaxPooling2D(2))\n",
    "model.add(Dropout(0.2))\n",
    "model.add(Conv2D(128, 3, input_shape=(28,28,1), activation='relu'))\n",
    "model.add(MaxPooling2D(2))\n",
    "model.add(Dropout(0.2))\n",
    "\n",
    "model.add(Flatten())\n",
    "model.add(Dense(256, activation='relu'))\n",
    "model.add(Dropout(0.2))\n",
    "model.add(Dense(10))\n",
    "model.add(Activation('softmax'))\n",
    "\n",
    "model.summary()"
   ]
  },
  {
   "cell_type": "code",
   "execution_count": 47,
   "metadata": {},
   "outputs": [],
   "source": [
    "#Compile\n",
    "optimizer= Adam(lr=0.0002, decay= 0.00001)\n",
    "model.compile( optimizer= 'adam', loss= 'categorical_crossentropy', metrics=['acc'])"
   ]
  },
  {
   "cell_type": "code",
   "execution_count": 48,
   "metadata": {},
   "outputs": [
    {
     "name": "stdout",
     "output_type": "stream",
     "text": [
      "Train on 60000 samples, validate on 10000 samples\n",
      "Epoch 1/30\n",
      "60000/60000 [==============================] - 8s 131us/step - loss: 0.3589 - acc: 0.8873 - val_loss: 0.0550 - val_acc: 0.9823\n",
      "Epoch 2/30\n",
      "60000/60000 [==============================] - 7s 122us/step - loss: 0.0699 - acc: 0.9783 - val_loss: 0.0385 - val_acc: 0.9872\n",
      "Epoch 3/30\n",
      "60000/60000 [==============================] - 7s 123us/step - loss: 0.0479 - acc: 0.9856 - val_loss: 0.0273 - val_acc: 0.9903\n",
      "Epoch 4/30\n",
      "60000/60000 [==============================] - 7s 123us/step - loss: 0.0377 - acc: 0.9883 - val_loss: 0.0257 - val_acc: 0.9916\n",
      "Epoch 5/30\n",
      "60000/60000 [==============================] - 7s 123us/step - loss: 0.0311 - acc: 0.9901 - val_loss: 0.0227 - val_acc: 0.9924\n",
      "Epoch 6/30\n",
      "60000/60000 [==============================] - 7s 123us/step - loss: 0.0260 - acc: 0.9915 - val_loss: 0.0228 - val_acc: 0.9932\n",
      "Epoch 7/30\n",
      "60000/60000 [==============================] - 7s 125us/step - loss: 0.0236 - acc: 0.9923 - val_loss: 0.0242 - val_acc: 0.9922\n",
      "Epoch 8/30\n",
      "60000/60000 [==============================] - 7s 125us/step - loss: 0.0205 - acc: 0.9932 - val_loss: 0.0218 - val_acc: 0.9931\n",
      "Epoch 9/30\n",
      "60000/60000 [==============================] - 7s 125us/step - loss: 0.0177 - acc: 0.9945 - val_loss: 0.0205 - val_acc: 0.9928\n",
      "Epoch 10/30\n",
      "60000/60000 [==============================] - 7s 124us/step - loss: 0.0160 - acc: 0.9948 - val_loss: 0.0186 - val_acc: 0.9942\n",
      "Epoch 11/30\n",
      "60000/60000 [==============================] - 7s 124us/step - loss: 0.0153 - acc: 0.9949 - val_loss: 0.0184 - val_acc: 0.9943\n",
      "Epoch 12/30\n",
      "60000/60000 [==============================] - 7s 124us/step - loss: 0.0128 - acc: 0.9956 - val_loss: 0.0197 - val_acc: 0.9941\n",
      "Epoch 13/30\n",
      "60000/60000 [==============================] - 7s 123us/step - loss: 0.0125 - acc: 0.9958 - val_loss: 0.0195 - val_acc: 0.9930\n",
      "Epoch 14/30\n",
      "60000/60000 [==============================] - 7s 124us/step - loss: 0.0108 - acc: 0.9962 - val_loss: 0.0201 - val_acc: 0.9942\n",
      "Epoch 15/30\n",
      "60000/60000 [==============================] - 7s 124us/step - loss: 0.0091 - acc: 0.9971 - val_loss: 0.0213 - val_acc: 0.9937\n",
      "Epoch 16/30\n",
      "60000/60000 [==============================] - 7s 124us/step - loss: 0.0098 - acc: 0.9968 - val_loss: 0.0212 - val_acc: 0.9932\n",
      "Epoch 17/30\n",
      "60000/60000 [==============================] - 7s 124us/step - loss: 0.0110 - acc: 0.9963 - val_loss: 0.0205 - val_acc: 0.9941\n",
      "Epoch 18/30\n",
      "60000/60000 [==============================] - 7s 124us/step - loss: 0.0084 - acc: 0.9972 - val_loss: 0.0235 - val_acc: 0.9933\n",
      "Epoch 19/30\n",
      "60000/60000 [==============================] - 7s 124us/step - loss: 0.0099 - acc: 0.9967 - val_loss: 0.0229 - val_acc: 0.9929\n",
      "Epoch 20/30\n",
      "60000/60000 [==============================] - 7s 124us/step - loss: 0.0073 - acc: 0.9978 - val_loss: 0.0204 - val_acc: 0.9940\n",
      "Epoch 21/30\n",
      "60000/60000 [==============================] - 7s 123us/step - loss: 0.0073 - acc: 0.9976 - val_loss: 0.0205 - val_acc: 0.9946\n",
      "Epoch 22/30\n",
      "60000/60000 [==============================] - 7s 123us/step - loss: 0.0071 - acc: 0.9978 - val_loss: 0.0202 - val_acc: 0.9942\n",
      "Epoch 23/30\n",
      "60000/60000 [==============================] - 7s 123us/step - loss: 0.0062 - acc: 0.9980 - val_loss: 0.0236 - val_acc: 0.9939\n",
      "Epoch 24/30\n",
      "60000/60000 [==============================] - 7s 123us/step - loss: 0.0066 - acc: 0.9977 - val_loss: 0.0215 - val_acc: 0.9944\n",
      "Epoch 25/30\n",
      "60000/60000 [==============================] - 7s 124us/step - loss: 0.0062 - acc: 0.9979 - val_loss: 0.0205 - val_acc: 0.9943\n",
      "Epoch 26/30\n",
      "60000/60000 [==============================] - 7s 123us/step - loss: 0.0064 - acc: 0.9980 - val_loss: 0.0209 - val_acc: 0.9945\n",
      "Epoch 27/30\n",
      "60000/60000 [==============================] - 7s 123us/step - loss: 0.0053 - acc: 0.9982 - val_loss: 0.0219 - val_acc: 0.9946\n",
      "Epoch 28/30\n",
      "60000/60000 [==============================] - 7s 123us/step - loss: 0.0053 - acc: 0.9982 - val_loss: 0.0234 - val_acc: 0.9939\n",
      "Epoch 29/30\n",
      "60000/60000 [==============================] - 7s 123us/step - loss: 0.0047 - acc: 0.9984 - val_loss: 0.0185 - val_acc: 0.9950\n",
      "Epoch 30/30\n",
      "60000/60000 [==============================] - 7s 123us/step - loss: 0.0056 - acc: 0.9982 - val_loss: 0.0234 - val_acc: 0.9943\n"
     ]
    }
   ],
   "source": [
    "#Training\n",
    "history= model.fit(x_train, y_train, epochs=30, batch_size=512, validation_data=(x_val, y_val))"
   ]
  },
  {
   "cell_type": "code",
   "execution_count": 49,
   "metadata": {},
   "outputs": [
    {
     "data": {
      "image/png": "[encoded data removed]",
      "text/plain": [
       "<Figure size 432x288 with 1 Axes>"
      ]
     },
     "metadata": {
      "needs_background": "light"
     },
     "output_type": "display_data"
    },
    {
     "data": {
      "image/png": "[encoded data removed]",
      "text/plain": [
       "<Figure size 432x288 with 1 Axes>"
      ]
     },
     "metadata": {
      "needs_background": "light"
     },
     "output_type": "display_data"
    }
   ],
   "source": [
    "acc= history.history['acc']\n",
    "val_acc= history.history['val_acc']\n",
    "\n",
    "loss= history.history['loss']\n",
    "val_loss= history.history['val_loss']\n",
    "\n",
    "epochs= range(1, len(acc)+1)\n",
    "\n",
    "plt.plot(epochs, acc, label='Training Accuracy')\n",
    "plt.plot(epochs, val_acc, label='Validation Accuracy')\n",
    "plt.xlabel('Epochs')\n",
    "plt.ylabel('Accuracy')\n",
    "plt.title('Training vs Validation Accuracy')\n",
    "plt.grid()\n",
    "plt.legend()\n",
    "plt.show()\n",
    "\n",
    "plt.plot(epochs, loss, label='Training Loss')\n",
    "plt.plot(epochs, val_loss, label='Validation Loss')\n",
    "plt.xlabel('Epochs')\n",
    "plt.ylabel('Loss')\n",
    "plt.title('Training vs Validation Loss')\n",
    "plt.grid()\n",
    "plt.legend()\n",
    "plt.show()"
   ]
  },
  {
   "cell_type": "code",
   "execution_count": 50,
   "metadata": {},
   "outputs": [],
   "source": [
    "op= model.predict(x_test)"
   ]
  },
  {
   "cell_type": "code",
   "execution_count": 51,
   "metadata": {},
   "outputs": [],
   "source": [
    "# select the indix with the maximum probability\n",
    "results = np.argmax(op,axis = 1)\n",
    "\n",
    "results = pd.Series(results,name=\"Label\")"
   ]
  },
  {
   "cell_type": "code",
   "execution_count": 52,
   "metadata": {},
   "outputs": [],
   "source": [
    "submission = pd.concat([pd.Series(range(1,28001),name = \"ImageId\"),results],axis = 1)\n",
    "\n",
    "submission.to_csv(\"mnist_test_result_4.csv\",index=False)"
   ]
  },
  {
   "cell_type": "code",
   "execution_count": null,
   "metadata": {},
   "outputs": [],
   "source": []
  }
 ],
 "metadata": {
  "kernelspec": {
   "display_name": "Python 3",
   "language": "python",
   "name": "python3"
  },
  "language_info": {
   "codemirror_mode": {
    "name": "ipython",
    "version": 3
   },
   "file_extension": ".py",
   "mimetype": "text/x-python",
   "name": "python",
   "nbconvert_exporter": "python",
   "pygments_lexer": "ipython3",
   "version": "3.6.6"
  }
 },
 "nbformat": 4,
 "nbformat_minor": 2
}
